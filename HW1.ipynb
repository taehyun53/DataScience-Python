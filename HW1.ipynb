{
 "cells": [
  {
   "cell_type": "markdown",
   "metadata": {},
   "source": [
    "**Ex1**\n",
    "- Define a function called which takes a number x and returns $\\frac{x^{2} + x^{3}}{\\sqrt{x}}$.\n",
    "- Define a lambda to give same output"
   ]
  },
  {
   "cell_type": "code",
   "execution_count": null,
   "metadata": {
    "collapsed": true,
    "jupyter": {
     "outputs_hidden": true
    }
   },
   "outputs": [],
   "source": [
    "def root:\n",
    "    return (((x**2)+(x**3))/(x**(1/2)))\n",
    "\n",
    "root = lambda x: (((x**2)+(x**3))/(x**(1/2)))\n",
    "\n",
    "print(root(5))"
   ]
  },
  {
   "cell_type": "markdown",
   "metadata": {
    "slideshow": {
     "slide_type": "slide"
    }
   },
   "source": [
    "**Ex2**\n",
    "\n",
    "- Define `x` to be the list `[9, 8, 7, 6, 5, 4, 3, 1, 2, 3, 4, 5, 6, 7, 8]`.  Do this by using range twice and concatenating the results."
   ]
  },
  {
   "cell_type": "code",
   "execution_count": 1,
   "metadata": {
    "slideshow": {
     "slide_type": "fragment"
    }
   },
   "outputs": [],
   "source": [
    "listthree = [9, 8, 7, 6, 5, 4, 3, 1, 2, 3, 4, 5, 6, 7, 8]\n",
    "listone = list(range(9,2,-1))\n",
    "listtwo = list(range(1,9))\n",
    "listthree = listone + listtwo\n",
    "print(listthree)"
   ]
  },
  {
   "cell_type": "markdown",
   "metadata": {
    "slideshow": {
     "slide_type": "slide"
    }
   },
   "source": [
    "**Ex 3**\n",
    "\n",
    "- Define the following functions. Define them with both notations (funcation and lambda) , changing the first letter of the name to a capital to distinguish them:\n",
    " - A function that takes one input and generates a list with numbers from zero to that number and from that number to zero.\n",
    "   ```\n",
    "   gen_lst(5) ---> [0,1,2,3,4,5,5,4,3,2,1,0]\n",
    "   ```\n",
    " - A function that concatenates a list to itself.\n",
    "   ```\n",
    "   double_lis([4, 7, 9, 12])\n",
    "       ---> [4, 7, 9, 12, 4, 7, 9, 12]\n",
    "   ```"
   ]
  },
  {
   "cell_type": "code",
   "execution_count": null,
   "metadata": {
    "slideshow": {
     "slide_type": "fragment"
    }
   },
   "outputs": [],
   "source": [
    "def capital(name):\n",
    "    return name.capitalize()\n",
    "\n",
    "x = \"hello\"\n",
    "\n",
    "print(capital(x))\n",
    "\n",
    "capital = lambda name: (name.capitalize())\n",
    "x = \"hello\"\n",
    "print(capital(x))"
   ]
  },
  {
   "cell_type": "code",
   "execution_count": null,
   "metadata": {
    "slideshow": {
     "slide_type": "fragment"
    }
   },
   "outputs": [],
   "source": [
    "def gen_list():\n",
    "    listone = list(range(0,6))\n",
    "    listtwo = list(range(5,-1,-1))\n",
    "    listthree = listone + listtwo\n",
    "    return listthree\n",
    "\n",
    "print(gen_list())\n",
    "\n",
    "gen_list = lambda : (list(range(0,6)) + list(range(5,-1,-1)))\n",
    "\n",
    "print(gen_list())"
   ]
  },
  {
   "cell_type": "code",
   "execution_count": null,
   "metadata": {},
   "outputs": [],
   "source": [
    "def double_list(list):\n",
    "    return list + list\n",
    "\n",
    "x = [4,7,9,12]\n",
    "print(double_list(x))\n",
    "\n",
    "double_list = lambda list: (list + list)\n",
    "x = [1,2,3,4]\n",
    "print(double_list(x))"
   ]
  },
  {
   "cell_type": "code",
   "execution_count": null,
   "metadata": {
    "slideshow": {
     "slide_type": "fragment"
    }
   },
   "outputs": [],
   "source": [
    "\n"
   ]
  }
 ],
 "metadata": {
  "kernelspec": {
   "display_name": "Python 3",
   "language": "python",
   "name": "python3"
  },
  "language_info": {
   "codemirror_mode": {
    "name": "ipython",
    "version": 3
   },
   "file_extension": ".py",
   "mimetype": "text/x-python",
   "name": "python",
   "nbconvert_exporter": "python",
   "pygments_lexer": "ipython3",
   "version": "3.8.8"
  }
 },
 "nbformat": 4,
 "nbformat_minor": 4
}
