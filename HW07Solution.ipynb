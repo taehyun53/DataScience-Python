{
 "cells": [
  {
   "cell_type": "markdown",
   "metadata": {},
   "source": [
    "**Exercise 1**\n",
    "\n",
    "Given the following dictionary (it contains for each employee: (age, number_of_kids, salary)):\n",
    "\n",
    "- Print a list of names sorted by names.\n",
    "- print a list of names sorted by salary.\n",
    "- increase the salary of any employee who has kids ($100 for each child)."
   ]
  },
  {
   "cell_type": "code",
   "execution_count": 11,
   "metadata": {},
   "outputs": [
    {
     "data": {
      "text/plain": [
       "['alice',\n",
       " 'alma',\n",
       " 'james',\n",
       " 'jo',\n",
       " 'linda',\n",
       " 'mike',\n",
       " 'roberto',\n",
       " 'sarah',\n",
       " 'tara',\n",
       " 'william']"
      ]
     },
     "execution_count": 11,
     "metadata": {},
     "output_type": "execute_result"
    }
   ],
   "source": [
    "employees={'james':[20,2,2000],\n",
    "           'mike':[25,1,2500],\n",
    "           'linda':[21,0,1900],\n",
    "           'sarah':[27,1,2200],\n",
    "           'william':[26,0,3000],\n",
    "           'roberto':[31,4,3500],\n",
    "           'alma':[25,0,1900],\n",
    "           'tara':[29,0,2100],\n",
    "           'jo':[34,2,2900],\n",
    "           'alice':[23,0,1800]}\n",
    "\n",
    "#### Your code here\n",
    "#Print a list of names sorted by names.\n",
    "#list(map(lambda e:e[0],sorted(list(employees.items()), key=lambda e:e[0])))\n",
    "sorted(employees.keys())\n"
   ]
  },
  {
   "cell_type": "code",
   "execution_count": 16,
   "metadata": {},
   "outputs": [
    {
     "data": {
      "text/plain": [
       "[[23, 0, 1800],\n",
       " [21, 0, 1900],\n",
       " [25, 0, 1900],\n",
       " [20, 2, 2000],\n",
       " [29, 0, 2100],\n",
       " [27, 1, 2200],\n",
       " [25, 1, 2500],\n",
       " [34, 2, 2900],\n",
       " [26, 0, 3000],\n",
       " [31, 4, 3500]]"
      ]
     },
     "execution_count": 16,
     "metadata": {},
     "output_type": "execute_result"
    }
   ],
   "source": [
    "sorted(employees.values(), key=lambda v:v[-1])"
   ]
  },
  {
   "cell_type": "code",
   "execution_count": 19,
   "metadata": {},
   "outputs": [
    {
     "data": {
      "text/plain": [
       "['alice',\n",
       " 'linda',\n",
       " 'alma',\n",
       " 'james',\n",
       " 'tara',\n",
       " 'sarah',\n",
       " 'mike',\n",
       " 'jo',\n",
       " 'william',\n",
       " 'roberto']"
      ]
     },
     "execution_count": 19,
     "metadata": {},
     "output_type": "execute_result"
    }
   ],
   "source": [
    "#print a list of names sorted by salary.\n",
    "\n",
    "#list(map(lambda e:e[0],sorted(list(employees.items()), key=lambda e:e[1][-1])))\n",
    "\n",
    "[e[0] for e in sorted(list(employees.items()), key=lambda e:e[1][-1])]"
   ]
  },
  {
   "cell_type": "code",
   "execution_count": 22,
   "metadata": {},
   "outputs": [
    {
     "data": {
      "text/plain": [
       "['james',\n",
       " 'linda',\n",
       " 'alice',\n",
       " 'mike',\n",
       " 'alma',\n",
       " 'william',\n",
       " 'sarah',\n",
       " 'tara',\n",
       " 'roberto',\n",
       " 'jo']"
      ]
     },
     "execution_count": 22,
     "metadata": {},
     "output_type": "execute_result"
    }
   ],
   "source": [
    "[e[0] for e in sorted(list(employees.items()), key=lambda e:e[1][0])]"
   ]
  },
  {
   "cell_type": "markdown",
   "metadata": {},
   "source": [
    "**Exercise 2**\n",
    "\n",
    "- Use np.arange to create an array with all values(0 to 200)\n",
    "- Reshape the created array to be (50,4) \n",
    "- Change the value of all items in first column to be 2.1\n",
    "- Change the value of all items in last column to be 5.3\n",
    "- find the sum of all items in the array\n",
    "\n",
    "**Hint:** \n",
    "- use .reshape(rows, cols) to reshape the array\n",
    "- use the funtion <i>sum</i> to find the sum."
   ]
  },
  {
   "cell_type": "code",
   "execution_count": 42,
   "metadata": {},
   "outputs": [],
   "source": [
    "#### Your code here\n",
    "import numpy as np\n",
    "#x=np.arange(0,200).reshape(50,4).astype('float')\n",
    "x=np.arange(0,200,1.0).reshape(50,4)\n",
    "\n",
    "#Change the value of all items in first column to be 2.1\n",
    "x[:,0]=2.1"
   ]
  },
  {
   "cell_type": "code",
   "execution_count": 44,
   "metadata": {},
   "outputs": [],
   "source": [
    "#Change the value of all items in last column to be 5.3\n",
    "x[:,-1]=5.3"
   ]
  },
  {
   "cell_type": "code",
   "execution_count": 53,
   "metadata": {},
   "outputs": [
    {
     "data": {
      "text/plain": [
       "10320.0"
      ]
     },
     "execution_count": 53,
     "metadata": {},
     "output_type": "execute_result"
    }
   ],
   "source": [
    "#find the sum of all items in the array\n",
    "\n",
    "#sum(sum(x))\n",
    "\n",
    "np.sum(x)"
   ]
  },
  {
   "cell_type": "markdown",
   "metadata": {},
   "source": [
    "**Exercise 3 (Optional)**\n",
    "\n",
    "- We have 10 files: (2010.txt, 2011.txt, 2012.txt, .. 2020.txt) representing sales of three different items (item1, item2 items) in 30 days (each line represents one day). \n",
    "- Each line of these files contains three values representing the amount of sales of the related item in that day.\n",
    "- Find the total sale of each item in all years.\n",
    "\n",
    "**Hint:** use numpy arrays to store values in each file then add arrays."
   ]
  },
  {
   "cell_type": "code",
   "execution_count": 2,
   "metadata": {},
   "outputs": [
    {
     "data": {
      "text/plain": [
       "array([1833287, 1800495, 1756547])"
      ]
     },
     "execution_count": 2,
     "metadata": {},
     "output_type": "execute_result"
    }
   ],
   "source": [
    "#### Your code here\n",
    "import numpy as np\n",
    "L=[]\n",
    "\n",
    "for x in range(2010, 2021):\n",
    "    f=open(str(x)+'.txt')\n",
    "    content=f.read()\n",
    "    f.close()\n",
    "    \n",
    "    L.append(np.sum(np.array([l.split(',') for l in content.split('\\n')[1:-1]], dtype=int), axis=0))\n",
    "\n",
    "np.sum(np.array(L), axis=0)\n",
    "\n"
   ]
  },
  {
   "cell_type": "code",
   "execution_count": null,
   "metadata": {},
   "outputs": [],
   "source": []
  }
 ],
 "metadata": {
  "kernelspec": {
   "display_name": "Python 3",
   "language": "python",
   "name": "python3"
  },
  "language_info": {
   "codemirror_mode": {
    "name": "ipython",
    "version": 3
   },
   "file_extension": ".py",
   "mimetype": "text/x-python",
   "name": "python",
   "nbconvert_exporter": "python",
   "pygments_lexer": "ipython3",
   "version": "3.8.8"
  }
 },
 "nbformat": 4,
 "nbformat_minor": 4
}
