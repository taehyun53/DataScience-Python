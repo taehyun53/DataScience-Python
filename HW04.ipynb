{
 "cells": [
  {
   "cell_type": "markdown",
   "metadata": {},
   "source": [
    "**Exercise 01** \n",
    "\n",
    "- Write a function called **ex_1_a** that adds the square of the number to each item in a list\n",
    "```\n",
    "ex_1_a([2, 5, 6]) ---> [[2, 4], [5, 25], [6, 36]]\n",
    "```\n",
    "\n",
    "- Write a function called **ex_1_b** that adds the size to each sublist in a list\n",
    "```\n",
    "LL = [[2,2,3], [5,1], [], [6]]\n",
    "ex_1_b(LL) ---> [[2, 2, 3, 3], [5, 1, 2], [0], [6, 1]]\n",
    "\n",
    "```"
   ]
  },
  {
   "cell_type": "code",
   "execution_count": 9,
   "metadata": {},
   "outputs": [],
   "source": []
  },
  {
   "cell_type": "markdown",
   "metadata": {},
   "source": [
    " \n",
    "**Exercise 02** \n",
    "\n",
    " \n",
    "Write code to read the data from the file (salaries.txt), increases each salary by 100 then save new salaries back to the same file."
   ]
  },
  {
   "cell_type": "code",
   "execution_count": 15,
   "metadata": {},
   "outputs": [
    {
     "data": {
      "text/plain": [
       "255"
      ]
     },
     "execution_count": 15,
     "metadata": {},
     "output_type": "execute_result"
    }
   ],
   "source": [
    "f = open('salaries.txt')\n",
    "read = f.read()\n",
    "f.close()\n",
    "\n",
    "read_split = read.split(',')\n",
    "add_100 = list(map(lambda x: str(int(x)+100), read_split))\n",
    "new_data = ' '.join(add_100)\n",
    "\n",
    "f = open('new_salaries', 'w')\n",
    "write = f.write(new_data)\n",
    "f.close()\n",
    "\n",
    "write"
   ]
  },
  {
   "cell_type": "markdown",
   "metadata": {},
   "source": [
    "**Exercise 03** \n",
    "\n",
    " \n",
    "- Write code to read the data from the file (names.txt), the code should return a clean list of names (called **names_list**) with no additional spaces and all first names start with upper case."
   ]
  },
  {
   "cell_type": "code",
   "execution_count": 41,
   "metadata": {},
   "outputs": [
    {
     "data": {
      "text/plain": [
       "['Keith Bradley',\n",
       " 'Don Roy',\n",
       " 'Bonnie Norton',\n",
       " 'Jake Robertson',\n",
       " 'Emily Mendoza',\n",
       " 'Shannon Harmon',\n",
       " 'Meredith Howard',\n",
       " 'Irma Dean',\n",
       " 'Christie Stevenson',\n",
       " 'Rickey Kelley',\n",
       " 'Gene Hernandez',\n",
       " 'Ronald Ramos',\n",
       " 'Todd Becker',\n",
       " 'Nora Hale',\n",
       " 'Glenda Simon',\n",
       " 'Mable Page',\n",
       " 'Beverly Carr',\n",
       " 'Alice May',\n",
       " 'Ellis Aguilar',\n",
       " 'Brandi Nichols',\n",
       " 'Verna Chandler',\n",
       " 'Winston Barker',\n",
       " 'April Anderson',\n",
       " 'Joy Keller',\n",
       " 'Karen Stanley',\n",
       " 'Peter Foster',\n",
       " 'Crystal Mccoy',\n",
       " 'Alejandro Wilkins',\n",
       " 'Wendell Ballard',\n",
       " 'Lawrence Medina',\n",
       " 'Maxine Weber',\n",
       " 'Arlene Ryan',\n",
       " 'Patricia Clarke',\n",
       " 'Bernard Richardson',\n",
       " 'Andy Fletcher',\n",
       " 'Lois Obrien',\n",
       " 'Dustin Manning',\n",
       " 'Edgar Cain',\n",
       " 'Jody Myers',\n",
       " 'Neal Ball',\n",
       " 'Tammy Haynes',\n",
       " 'Pauline Cannon',\n",
       " 'Claire Edwards',\n",
       " 'Jordan Day',\n",
       " 'Garry Banks',\n",
       " 'Carrie Miller',\n",
       " 'Francis Lewis',\n",
       " 'Lynn Hicks',\n",
       " 'Andrea Mckenzie',\n",
       " 'Terry Rice']"
      ]
     },
     "execution_count": 41,
     "metadata": {},
     "output_type": "execute_result"
    }
   ],
   "source": [
    "# Your code here\n",
    "f = open('names.txt')\n",
    "read=f.read()\n",
    "f.close()\n",
    "\n",
    "list_strip_split = [l.strip() for l in read.split('\\n')]\n",
    "lis = list(map(lambda x: x.title(), list_strip_split))\n",
    "lis"
   ]
  },
  {
   "cell_type": "code",
   "execution_count": 38,
   "metadata": {},
   "outputs": [
    {
     "data": {
      "text/plain": [
       "'    keith bradley\\n    don roy\\n    bonnie norton\\n    jake robertson\\n    emily mendoza\\n    shannon harmon\\n    meredith howard\\n    irma dean\\n    christie stevenson\\n    rickey kelley\\n    gene hernandez\\n    ronald ramos\\n    todd becker\\n    nora hale\\n    glenda simon\\n    mable page\\n    beverly carr\\n    alice may\\n    ellis aguilar\\n    brandi nichols\\n    verna chandler\\n    winston barker\\n    april anderson\\n    joy keller\\n    karen stanley\\n    peter foster\\n    crystal mccoy\\n    alejandro wilkins\\n    wendell ballard\\n    lawrence medina\\n    maxine weber\\n    arlene ryan\\n    patricia clarke\\n    bernard richardson\\n    andy fletcher\\n    lois obrien\\n    dustin manning\\n    edgar cain\\n    jody myers\\n    neal ball\\n    tammy haynes\\n    pauline cannon\\n    claire edwards\\n    jordan day\\n    garry banks\\n    carrie miller\\n    francis lewis\\n    lynn hicks\\n    andrea mckenzie\\n    terry rice'"
      ]
     },
     "execution_count": 38,
     "metadata": {},
     "output_type": "execute_result"
    }
   ],
   "source": [
    "f = open('names.txt')\n",
    "read=f.read()\n",
    "f.close()\n",
    "read"
   ]
  },
  {
   "cell_type": "code",
   "execution_count": null,
   "metadata": {},
   "outputs": [],
   "source": []
  }
 ],
 "metadata": {
  "kernelspec": {
   "display_name": "Python 3",
   "language": "python",
   "name": "python3"
  },
  "language_info": {
   "codemirror_mode": {
    "name": "ipython",
    "version": 3
   },
   "file_extension": ".py",
   "mimetype": "text/x-python",
   "name": "python",
   "nbconvert_exporter": "python",
   "pygments_lexer": "ipython3",
   "version": "3.8.8"
  }
 },
 "nbformat": 4,
 "nbformat_minor": 4
}
