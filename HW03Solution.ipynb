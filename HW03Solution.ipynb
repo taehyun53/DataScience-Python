{
 "cells": [
  {
   "cell_type": "markdown",
   "metadata": {},
   "source": [
    "**Exercise 01** \n",
    "\n",
    "- write code to find the which state has more clients NJ or NY?\n",
    "\n",
    "```\n",
    "clients=[['james','NJ'],['mike','NJ'],['linda','NY'],['sarah','NJ'],['yara','NY'],['robert','NJ'],\n",
    "['sam','NY'],['zara','NJ'],['judi','NY'],['tara','NJ'],['ed','NY'],['muna','NJ'],['layan','NY'],\n",
    "['taylor','NJ'],['susan','NJ'],['hala','NJ'],['shahd','NY'],['suha','NY'],['ziad','NY'],\n",
    "['emad','NJ'],['tony','NY'],['juan','NJ'],]\n",
    "\n",
    "```"
   ]
  },
  {
   "cell_type": "code",
   "execution_count": 5,
   "metadata": {},
   "outputs": [
    {
     "name": "stdout",
     "output_type": "stream",
     "text": [
      "Number of clients in NY:  10\n",
      "Number of clients in NJ:  12\n"
     ]
    }
   ],
   "source": [
    "clients=[['james','NJ'],['mike','NJ'],['linda','NY'],['sarah','NJ'],['yara','NY'],['robert','NJ'],\n",
    "         ['sam','NY'],['zara','NJ'],['judi','NY'],['tara','NJ'],['ed','NY'],['muna','NJ'],\n",
    "         ['layan','NY'],['taylor','NJ'],['susan','NJ'],['hala','NJ'],['shahd','NY'],['suha','NY'],\n",
    "         ['ziad','NY'],['emad','NJ'],['tony','NY'],['juan','NJ']]\n",
    "## Your code here\n",
    "\n",
    "print('Number of clients in NY: ',len(list(filter(lambda e:e[1]=='NY',clients))))\n",
    "print('Number of clients in NJ: ',len(list(filter(lambda e:e[1]=='NJ',clients))))"
   ]
  },
  {
   "cell_type": "markdown",
   "metadata": {
    "slideshow": {
     "slide_type": "slide"
    }
   },
   "source": [
    "**Exercise 02**\n",
    "\n",
    "- Define a boolean function increase2 that tests with the first two elements of a list are in increasing order.\n",
    "```\n",
    "increase2([2, 5, 4, 9]) ---> True\n",
    "increase2([2, 2, 5, 0]) ---> False\n",
    "```\n",
    "\n",
    "- Define a function increasing_lists that selects from a nested list only those lists that satisfy increase2:\n",
    "```\n",
    "increasing_lists([[2, 5, 4, 9], [2, 2], [3, 4, 5]]) \n",
    "    ---> [[2, 5, 4, 9], [3, 4, 5]]\n",
    "```"
   ]
  },
  {
   "cell_type": "code",
   "execution_count": 9,
   "metadata": {
    "slideshow": {
     "slide_type": "fragment"
    }
   },
   "outputs": [],
   "source": [
    "#### Your code here\n",
    "#1\n",
    "def increase2(L):\n",
    "    return L[0]<L[1]\n",
    "#2\n",
    "\n",
    "def increasing_lists(LL):\n",
    "    return list(filter(increase2,LL))"
   ]
  },
  {
   "cell_type": "code",
   "execution_count": 13,
   "metadata": {},
   "outputs": [
    {
     "data": {
      "text/plain": [
       "[[2, 5, 4, 9], [3, 4, 5], [7, 8, 10, 11]]"
      ]
     },
     "execution_count": 13,
     "metadata": {},
     "output_type": "execute_result"
    }
   ],
   "source": [
    "increasing_lists([[2, 5, 4, 9], [2, 2], [3, 4, 5],[10,9,5],[7,8,10,11]]) "
   ]
  },
  {
   "cell_type": "markdown",
   "metadata": {},
   "source": [
    "**Exercise 03** String operations\n",
    "\n",
    "- Use `map` to find the first occurrence of the character `i` in each word in a list:\n",
    "```\n",
    "lis = ['today', 'is', 'a', 'nice', 'day']\n",
    "map( ... , lis)   # fill in the ... to get [-1, 0, -1, 1, -1]\n",
    "```\n",
    "\n",
    "- Define function `find_char(s, t)` to find the lowest index of string `t` in each word in `s`:\n",
    "```\n",
    "s = 'today is a nice day'\n",
    "find_char(s, 'i') ---> [-1, 0, -1, 1, -1]\n",
    "```\n",
    "First split `s`, and then so as above.\n",
    "\n",
    "- Use `map` with the formatting operation (`%`) to turn a list of numbers into a list of strings:\n",
    "```\n",
    "lis = [10, 12, 4, 7]\n",
    "list(map( ... , lis))   # fill in the ... to get ['10', '12', '4', '7']\n",
    "```\n",
    "\n",
    "- Use `filter` to find the strings in a list that do contain No.\n",
    "```\n",
    "L = ['No rain', 'Some snow', 'No sleet']\n",
    "list(filter(has_No, L)) ---> ['No rain', 'No sleet']\n",
    "```"
   ]
  },
  {
   "cell_type": "code",
   "execution_count": 14,
   "metadata": {},
   "outputs": [
    {
     "data": {
      "text/plain": [
       "[-1, 0, -1, 1, -1]"
      ]
     },
     "execution_count": 14,
     "metadata": {},
     "output_type": "execute_result"
    }
   ],
   "source": [
    "## Code here\n",
    "lis = ['today', 'is', 'a', 'nice', 'day']\n",
    "list(map(lambda w:w.find('i'),lis))"
   ]
  },
  {
   "cell_type": "code",
   "execution_count": 17,
   "metadata": {},
   "outputs": [
    {
     "data": {
      "text/plain": [
       "[3, -1, 0, -1, 1]"
      ]
     },
     "execution_count": 17,
     "metadata": {},
     "output_type": "execute_result"
    }
   ],
   "source": [
    "def find_char(txt, c):\n",
    "    words=txt.split()\n",
    "    return list(map(lambda w:w.find(c),words))\n",
    "\n",
    "find_char('today is a nice day','a')\n",
    "    "
   ]
  },
  {
   "cell_type": "code",
   "execution_count": 26,
   "metadata": {},
   "outputs": [
    {
     "data": {
      "text/plain": [
       "['10', '12', '4', '7']"
      ]
     },
     "execution_count": 26,
     "metadata": {},
     "output_type": "execute_result"
    }
   ],
   "source": [
    "lis = [10, 12, 4, 7]\n",
    "#list(map(str,lis))\n",
    "list(map(lambda v:'%i'%v,lis))"
   ]
  },
  {
   "cell_type": "code",
   "execution_count": 28,
   "metadata": {},
   "outputs": [
    {
     "data": {
      "text/plain": [
       "['No rain', 'No sleet']"
      ]
     },
     "execution_count": 28,
     "metadata": {},
     "output_type": "execute_result"
    }
   ],
   "source": [
    "L = ['No rain', 'Some snow', 'No sleet']\n",
    "#list(filter(lambda t:'No' in t,L))\n",
    "list(filter(lambda t:t.find('No')!=-1,L))"
   ]
  },
  {
   "cell_type": "code",
   "execution_count": null,
   "metadata": {},
   "outputs": [],
   "source": [
    "lis = [10, 12, 4, 7]\n",
    "\n"
   ]
  }
 ],
 "metadata": {
  "kernelspec": {
   "display_name": "Python 3",
   "language": "python",
   "name": "python3"
  },
  "language_info": {
   "codemirror_mode": {
    "name": "ipython",
    "version": 3
   },
   "file_extension": ".py",
   "mimetype": "text/x-python",
   "name": "python",
   "nbconvert_exporter": "python",
   "pygments_lexer": "ipython3",
   "version": "3.8.8"
  }
 },
 "nbformat": 4,
 "nbformat_minor": 4
}
