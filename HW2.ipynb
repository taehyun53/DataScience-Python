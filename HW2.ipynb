{
 "cells": [
  {
   "cell_type": "markdown",
   "metadata": {
    "slideshow": {
     "slide_type": "slide"
    }
   },
   "source": [
    "**Exercise 01** \n",
    "\n",
    "Create the following functions:\n",
    "\n",
    "- `square_all` squares every element of a numeric list.  (Define `sqr` to square a number, and map it over the list.)\n",
    "```\n",
    "square_all([1, 2, 3]) ---> [1, 4, 9]\n",
    "```\n",
    "- `get_second` gets the second element of every list in a nested list. (Define snd to get the second element of a list, and map it.)\n",
    "```\n",
    "get_second([[1, 2, 3], [4, 5], [6, 7, 8]]) ---> [2, 5, 7]\n",
    "```\n",
    "- `tot_length` finds the total length of the lists in a nested list.\n",
    "```\n",
    "tot_length([[1, 2, 3], [4, 5], [6, 7, 8]]) ---> 8\n",
    "```"
   ]
  },
  {
   "cell_type": "code",
   "execution_count": null,
   "metadata": {
    "slideshow": {
     "slide_type": "fragment"
    }
   },
   "outputs": [],
   "source": [
    "#1 - normal function\n",
    "\n",
    "x = [1,2,3]\n",
    "\n",
    "def square_all(L):\n",
    "    return L**2\n",
    "\n",
    "print(list(map(square_all, x)))\n",
    "\n",
    "#1 - lambda function: \n",
    "\n",
    "x = [1,2,3]\n",
    "\n",
    "square_all = lambda L: L**2\n",
    "\n",
    "print(list(map(square_all, x)))\n",
    "\n",
    "    \n",
    "#2 - normal function \n",
    "x = [[1, 2, 3], [4, 5], [6, 7, 8]]\n",
    "def get_second(L):\n",
    "    return L[1]\n",
    "\n",
    "print(list(map(get_second, x)))\n",
    "\n",
    "#2 lambda function \n",
    "get_second = lambda L: L[1]\n",
    "\n",
    "print(list(map(get_second, x)))\n",
    "\n",
    "#3\n",
    "numberList = [[1,2,3], [4,5], [6,7,8]]\n",
    "\n",
    "def total_length(L):\n",
    "    return len(L)\n",
    "\n",
    "print(total_length(numberList))\n",
    "\n",
    "#3 lambda function \n",
    "numberList = [[1,2,3], [4,5], [6,7,8]]\n",
    "\n",
    "total_length = lambda L: len(L)\n",
    "\n",
    "print(total_length(numberList))\n"
   ]
  },
  {
   "cell_type": "markdown",
   "metadata": {},
   "source": [
    "**Exercise 02**\n",
    "\n",
    "Define a function called **ex_2** that will find the total sum of all elements. For example:\n",
    "```\n",
    "ex_2([[1, 2, 3], [4, 5], [6, 7, 8]]) ---> 36\n",
    "```"
   ]
  },
  {
   "cell_type": "code",
   "execution_count": 1,
   "metadata": {},
   "outputs": [],
   "source": [
    "#### Your code here\n"
   ]
  },
  {
   "cell_type": "markdown",
   "metadata": {},
   "source": [
    "**Exercise 03**\n",
    "\n",
    "- Write a function `firstfirst` (in both syntaxes) that takes a nested list as input and returns the first element of the first element.  (The first element must be a non-empty list).\n",
    "```\n",
    "y = [['q', 'r', 's'], 2]\n",
    "firstfirst(y) ---> 'q'\n",
    "```\n",
    "- Write a function `subscr2` that takes two arguments: a nested list and a list with two integers.  It uses those two integers as indices into the nested list:\n",
    "```\n",
    "y = [['q', 'r', 's'], 2]\n",
    "subscr2(y, [0, 2]) ---> 's'\n",
    "```"
   ]
  },
  {
   "cell_type": "code",
   "execution_count": null,
   "metadata": {},
   "outputs": [],
   "source": [
    "#### Your code here\n",
    "\n",
    "#1 y = [['q', 'r', 's'], 2]\n",
    "\n",
    "def firstfirst(L):\n",
    "    return L[0][0]\n",
    "\n",
    "print(firstfirst(y))\n",
    "\n",
    "#lambda function \n",
    "firstfirst = lambda L: L[0][0]\n",
    "\n",
    "print(firstfirst(y))\n",
    "\n",
    "#2  \n"
   ]
  }
 ],
 "metadata": {
  "kernelspec": {
   "display_name": "Python 3",
   "language": "python",
   "name": "python3"
  },
  "language_info": {
   "codemirror_mode": {
    "name": "ipython",
    "version": 3
   },
   "file_extension": ".py",
   "mimetype": "text/x-python",
   "name": "python",
   "nbconvert_exporter": "python",
   "pygments_lexer": "ipython3",
   "version": "3.8.8"
  }
 },
 "nbformat": 4,
 "nbformat_minor": 4
}
