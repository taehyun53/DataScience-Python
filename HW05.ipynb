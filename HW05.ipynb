{
 "cells": [
  {
   "cell_type": "markdown",
   "metadata": {},
   "source": [
    "**Exercise 01**\n",
    "\n",
    "- Given the following dictionary:\n",
    "```\n",
    "inventory = {'pumpkin': 20, 'fruit': ['apple', 'pear'], 'vegetable': ['potato','onion','lettuce']}\n",
    "```\n",
    "- Modify inventory as follows:\n",
    " - Add a meat inventory item containing 'beef', 'chicken', and 'pork'.\n",
    " - Sort the vegetables (Recall the `sorted` and `sort` function.)\n",
    " - Add five more pumpkins.\n",
    "After these changes, inventory is:\n",
    "```\n",
    "{'vegetable': ['lettuce', 'onion', 'potato'], 'fruit': ['apple', 'pear'],\n",
    " 'meat': ['beef', 'chicken', 'pork'], 'pumpkin': 25}\n",
    "```"
   ]
  },
  {
   "cell_type": "code",
   "execution_count": 2,
   "metadata": {},
   "outputs": [
    {
     "data": {
      "text/plain": [
       "{'pumpkin': 20,\n",
       " 'fruit': ['apple', 'pear'],\n",
       " 'vegetable': ['potato', 'onion', 'lettuce']}"
      ]
     },
     "execution_count": 2,
     "metadata": {},
     "output_type": "execute_result"
    }
   ],
   "source": [
    "inventory = {'pumpkin': 20, 'fruit': ['apple', 'pear'], 'vegetable': ['potato','onion','lettuce']}\n",
    "inventory"
   ]
  },
  {
   "cell_type": "code",
   "execution_count": 5,
   "metadata": {},
   "outputs": [
    {
     "data": {
      "text/plain": [
       "{'pumpkin': 20,\n",
       " 'fruit': ['apple', 'pear'],\n",
       " 'vegetable': ['potato', 'onion', 'lettuce'],\n",
       " 'meat': ['beef', 'chicken', 'pork']}"
      ]
     },
     "execution_count": 5,
     "metadata": {},
     "output_type": "execute_result"
    }
   ],
   "source": [
    "inventory['meat'] = ['beef','chicken','pork']\n",
    "\n",
    "inventory"
   ]
  },
  {
   "cell_type": "code",
   "execution_count": 6,
   "metadata": {},
   "outputs": [],
   "source": [
    "inventory['vegetable'] = sorted(inventory['vegetable'], key = lambda x:x)"
   ]
  },
  {
   "cell_type": "code",
   "execution_count": 7,
   "metadata": {},
   "outputs": [
    {
     "data": {
      "text/plain": [
       "{'pumpkin': 20,\n",
       " 'fruit': ['apple', 'pear'],\n",
       " 'vegetable': ['lettuce', 'onion', 'potato'],\n",
       " 'meat': ['beef', 'chicken', 'pork']}"
      ]
     },
     "execution_count": 7,
     "metadata": {},
     "output_type": "execute_result"
    }
   ],
   "source": [
    "inventory"
   ]
  },
  {
   "cell_type": "code",
   "execution_count": 9,
   "metadata": {},
   "outputs": [],
   "source": [
    "inventory['pumpkin'] += 5"
   ]
  },
  {
   "cell_type": "code",
   "execution_count": 10,
   "metadata": {},
   "outputs": [
    {
     "data": {
      "text/plain": [
       "{'pumpkin': 25,\n",
       " 'fruit': ['apple', 'pear'],\n",
       " 'vegetable': ['lettuce', 'onion', 'potato'],\n",
       " 'meat': ['beef', 'chicken', 'pork']}"
      ]
     },
     "execution_count": 10,
     "metadata": {},
     "output_type": "execute_result"
    }
   ],
   "source": [
    "inventory"
   ]
  },
  {
   "cell_type": "markdown",
   "metadata": {},
   "source": [
    "**Exercise 02**\n",
    "\n",
    "Given the following dictionary:\n",
    "\n",
    "`\n",
    "roster = {'group1' :['Jack', 'Lisa'],\n",
    "          'group2' :['Mike', 'Mary'],\n",
    "     \t 'group3' :['John', 'Laura']} \n",
    "`\n",
    "- Get the keys and values of the dictionary.\n",
    "- Add a group4, item containing ‘David', ‘Susan’.\n",
    "- Convert all the names belong to group 2 to upper cases.\n"
   ]
  },
  {
   "cell_type": "code",
   "execution_count": 11,
   "metadata": {},
   "outputs": [
    {
     "data": {
      "text/plain": [
       "{'group1': ['Jack', 'Lisa'],\n",
       " 'group2': ['Mike', 'Mary'],\n",
       " 'group3': ['John', 'Laura']}"
      ]
     },
     "execution_count": 11,
     "metadata": {},
     "output_type": "execute_result"
    }
   ],
   "source": [
    "roster = {'group1' :['Jack', 'Lisa'],'group2' :['Mike', 'Mary'],'group3' :['John', 'Laura']}\n",
    "roster"
   ]
  },
  {
   "cell_type": "code",
   "execution_count": 21,
   "metadata": {},
   "outputs": [
    {
     "name": "stdout",
     "output_type": "stream",
     "text": [
      "key is group1\n",
      "values are ['Jack', 'Lisa']\n",
      "key is group2\n",
      "values are ['Mike', 'Mary']\n",
      "key is group3\n",
      "values are ['John', 'Laura']\n"
     ]
    }
   ],
   "source": [
    "for k,v in roster.items():\n",
    "    print('key is' + ' ' + k + '\\n' + 'values are' ,v)"
   ]
  },
  {
   "cell_type": "code",
   "execution_count": 23,
   "metadata": {},
   "outputs": [],
   "source": [
    "roster['group4'] = ['David', 'Susan']"
   ]
  },
  {
   "cell_type": "code",
   "execution_count": 24,
   "metadata": {},
   "outputs": [
    {
     "data": {
      "text/plain": [
       "{'group1': ['Jack', 'Lisa'],\n",
       " 'group2': ['Mike', 'Mary'],\n",
       " 'group3': ['John', 'Laura'],\n",
       " 'group4': ['David', 'Susan']}"
      ]
     },
     "execution_count": 24,
     "metadata": {},
     "output_type": "execute_result"
    }
   ],
   "source": [
    "roster"
   ]
  },
  {
   "cell_type": "code",
   "execution_count": 41,
   "metadata": {},
   "outputs": [
    {
     "ename": "AttributeError",
     "evalue": "'method_descriptor' object has no attribute 'upper'",
     "output_type": "error",
     "traceback": [
      "\u001b[0;31m---------------------------------------------------------------------------\u001b[0m",
      "\u001b[0;31mAttributeError\u001b[0m                            Traceback (most recent call last)",
      "\u001b[0;32m<ipython-input-41-df66c2753686>\u001b[0m in \u001b[0;36m<module>\u001b[0;34m\u001b[0m\n\u001b[0;32m----> 1\u001b[0;31m \u001b[0mroster\u001b[0m\u001b[0;34m[\u001b[0m\u001b[0;34m'group2'\u001b[0m\u001b[0;34m]\u001b[0m \u001b[0;34m=\u001b[0m \u001b[0mlist\u001b[0m\u001b[0;34m(\u001b[0m\u001b[0mmap\u001b[0m\u001b[0;34m(\u001b[0m\u001b[0;32mlambda\u001b[0m \u001b[0mx\u001b[0m\u001b[0;34m:\u001b[0m \u001b[0mx\u001b[0m\u001b[0;34m.\u001b[0m\u001b[0mupper\u001b[0m\u001b[0;34m,\u001b[0m \u001b[0mroster\u001b[0m\u001b[0;34m[\u001b[0m\u001b[0;34m'group2'\u001b[0m\u001b[0;34m]\u001b[0m\u001b[0;34m)\u001b[0m\u001b[0;34m)\u001b[0m\u001b[0;34m\u001b[0m\u001b[0;34m\u001b[0m\u001b[0m\n\u001b[0m",
      "\u001b[0;32m<ipython-input-41-df66c2753686>\u001b[0m in \u001b[0;36m<lambda>\u001b[0;34m(x)\u001b[0m\n\u001b[0;32m----> 1\u001b[0;31m \u001b[0mroster\u001b[0m\u001b[0;34m[\u001b[0m\u001b[0;34m'group2'\u001b[0m\u001b[0;34m]\u001b[0m \u001b[0;34m=\u001b[0m \u001b[0mlist\u001b[0m\u001b[0;34m(\u001b[0m\u001b[0mmap\u001b[0m\u001b[0;34m(\u001b[0m\u001b[0;32mlambda\u001b[0m \u001b[0mx\u001b[0m\u001b[0;34m:\u001b[0m \u001b[0mx\u001b[0m\u001b[0;34m.\u001b[0m\u001b[0mupper\u001b[0m\u001b[0;34m,\u001b[0m \u001b[0mroster\u001b[0m\u001b[0;34m[\u001b[0m\u001b[0;34m'group2'\u001b[0m\u001b[0;34m]\u001b[0m\u001b[0;34m)\u001b[0m\u001b[0;34m)\u001b[0m\u001b[0;34m\u001b[0m\u001b[0;34m\u001b[0m\u001b[0m\n\u001b[0m",
      "\u001b[0;31mAttributeError\u001b[0m: 'method_descriptor' object has no attribute 'upper'"
     ]
    }
   ],
   "source": [
    "roster['group2'] = list(map(lambda x:x.upper() roster['group2']))"
   ]
  },
  {
   "cell_type": "code",
   "execution_count": 29,
   "metadata": {},
   "outputs": [
    {
     "data": {
      "text/plain": [
       "{'group1': ['Jack', 'Lisa'],\n",
       " 'group2': [<method 'upper' of 'str' objects>,\n",
       "  <method 'upper' of 'str' objects>],\n",
       " 'group3': ['John', 'Laura'],\n",
       " 'group4': ['David', 'Susan']}"
      ]
     },
     "execution_count": 29,
     "metadata": {},
     "output_type": "execute_result"
    }
   ],
   "source": [
    "roster"
   ]
  },
  {
   "cell_type": "markdown",
   "metadata": {},
   "source": [
    "**Exercise 03**\n",
    "\n",
    "Define the following functions using if conditionals:\n",
    " 1. `absolute(x)` returns the absolute value of `x`. (Don’t use the built-in `abs` function.)\n",
    " 2. `leap_year(y)` returns true if `y` is divisible by 4 and not divisible by 100; but it is still true if `y` is divisible by 400. Thus, 1940 is a leap year, 1900 isn’t, and 2000 is.\n",
    " 4. Use `filter` to define a function `leap_years` that selects from a list of numbers those that represent leap years."
   ]
  },
  {
   "cell_type": "code",
   "execution_count": 53,
   "metadata": {},
   "outputs": [
    {
     "name": "stdout",
     "output_type": "stream",
     "text": [
      "4\n"
     ]
    }
   ],
   "source": [
    "def absolute(x):\n",
    "    if x > 0:\n",
    "        return x\n",
    "    else:\n",
    "        return -x\n",
    "        \n",
    "print(absolute(-4))"
   ]
  },
  {
   "cell_type": "code",
   "execution_count": 1,
   "metadata": {},
   "outputs": [
    {
     "name": "stdout",
     "output_type": "stream",
     "text": [
      "True\n"
     ]
    }
   ],
   "source": [
    "def leap_year(y):\n",
    "    if (y % 4 == 0 and y % 100 != 0) or (y % 400 == 0):\n",
    "        return True\n",
    "    else:\n",
    "        return False\n",
    "\n",
    "print(leap_year(2000))\n"
   ]
  },
  {
   "cell_type": "code",
   "execution_count": 4,
   "metadata": {},
   "outputs": [
    {
     "data": {
      "text/plain": [
       "[2000, 2001, 2002, 2003, 2004]"
      ]
     },
     "execution_count": 4,
     "metadata": {},
     "output_type": "execute_result"
    }
   ],
   "source": [
    "years=[2000,2001,2002,2003,2004]\n",
    "years"
   ]
  },
  {
   "cell_type": "code",
   "execution_count": 2,
   "metadata": {},
   "outputs": [],
   "source": [
    "def leap_years(y):\n",
    "    return list(filter(leap_year, y))\n"
   ]
  },
  {
   "cell_type": "code",
   "execution_count": 5,
   "metadata": {},
   "outputs": [
    {
     "name": "stdout",
     "output_type": "stream",
     "text": [
      "[2000, 2004]\n"
     ]
    }
   ],
   "source": [
    "print(leap_years(years))"
   ]
  },
  {
   "cell_type": "markdown",
   "metadata": {},
   "source": [
    "**Exercise 04**\n",
    "\n",
    "\n",
    "- Write the key and value pairs from the following dictionary to a file called **dictionary.txt**:\n",
    "\n",
    "```\n",
    "inventory = {'pumpkin' : 3.99, 'potato': 2, 'apple' : 2.99}\n",
    "potato 2\n",
    "apple 2.99\n",
    "pumpkin 3.99\n",
    "```\n",
    "\n",
    "- Use .items() to get the key and value pair of a dictionary.\n",
    "\n",
    "- Remember to close the file after completion of the `for` loop."
   ]
  },
  {
   "cell_type": "code",
   "execution_count": 43,
   "metadata": {},
   "outputs": [
    {
     "data": {
      "text/plain": [
       "{'pumpkin': 3.99, 'potato': 2, 'apple': 2.99}"
      ]
     },
     "execution_count": 43,
     "metadata": {},
     "output_type": "execute_result"
    }
   ],
   "source": [
    "inventory = {'pumpkin' : 3.99, 'potato': 2, 'apple' : 2.99}\n",
    "\n",
    "inventory"
   ]
  },
  {
   "cell_type": "code",
   "execution_count": 47,
   "metadata": {},
   "outputs": [],
   "source": [
    "f = open('dictionary.txt', 'w')\n",
    "for k,v in inventory.items():\n",
    "    f.write(k + ': ' + str(v))\n",
    "f.close()"
   ]
  },
  {
   "cell_type": "code",
   "execution_count": null,
   "metadata": {},
   "outputs": [],
   "source": []
  },
  {
   "cell_type": "markdown",
   "metadata": {},
   "source": [
    "**Exercise 05**\n",
    "\n",
    "- Given a list of names:\n",
    "```\n",
    "names = ['don', 'mike', 'vivian', 'saul']\n",
    "```\n",
    "Write code to produce the following list: \n",
    "```\n",
    "[[3, 'don'], [4, 'mike'], [6, 'vivian'], [4, 'saul']]\n",
    "```\n"
   ]
  },
  {
   "cell_type": "code",
   "execution_count": 48,
   "metadata": {},
   "outputs": [
    {
     "data": {
      "text/plain": [
       "['don', 'mike', 'vivian', 'saul']"
      ]
     },
     "execution_count": 48,
     "metadata": {},
     "output_type": "execute_result"
    }
   ],
   "source": [
    "names = ['don', 'mike', 'vivian', 'saul']\n",
    "names"
   ]
  },
  {
   "cell_type": "code",
   "execution_count": 49,
   "metadata": {},
   "outputs": [
    {
     "data": {
      "text/plain": [
       "[[3, 'don'], [4, 'mike'], [6, 'vivian'], [4, 'saul']]"
      ]
     },
     "execution_count": 49,
     "metadata": {},
     "output_type": "execute_result"
    }
   ],
   "source": [
    "list_map = list(map(lambda x: [len(x), x], names))\n",
    "list_map"
   ]
  },
  {
   "cell_type": "code",
   "execution_count": null,
   "metadata": {},
   "outputs": [],
   "source": []
  }
 ],
 "metadata": {
  "kernelspec": {
   "display_name": "Python 3",
   "language": "python",
   "name": "python3"
  },
  "language_info": {
   "codemirror_mode": {
    "name": "ipython",
    "version": 3
   },
   "file_extension": ".py",
   "mimetype": "text/x-python",
   "name": "python",
   "nbconvert_exporter": "python",
   "pygments_lexer": "ipython3",
   "version": "3.8.8"
  }
 },
 "nbformat": 4,
 "nbformat_minor": 4
}
