{
 "cells": [
  {
   "cell_type": "markdown",
   "metadata": {},
   "source": [
    "### Ex1\n",
    "\n",
    "- Write a function that adds sequence numbers to each item in a list\n",
    "```\n",
    "add_sequence(['a', 'b', 7]) ---> [(1, 'a'), (2, 'b'), (3, 7)]\n",
    "```"
   ]
  },
  {
   "cell_type": "code",
   "execution_count": null,
   "metadata": {},
   "outputs": [],
   "source": [
    "#\n",
    "\n",
    "def add_sequence(L):\n",
    "    [(i+1, L[i]) for i in range(len(L))]\n",
    "        "
   ]
  },
  {
   "cell_type": "markdown",
   "metadata": {},
   "source": [
    "### Ex2\n",
    "\n",
    " - Write a function to print the elements of a list of strings, up to the first string whose length exceeds 5.\n",
    "\n",
    "`printElements(['james','mike','william','lora','sandra']) -----> 'james', 'mike'`"
   ]
  },
  {
   "cell_type": "code",
   "execution_count": 3,
   "metadata": {},
   "outputs": [],
   "source": [
    "L = ['james','mike','william','lora','sandra']\n",
    "\n",
    "def printElements(L):\n",
    "    for x in L:\n",
    "        if len(x) < 6:\n",
    "            print(x)\n",
    "        else: \n",
    "            break\n",
    "\n",
    "print(printElements(L))"
   ]
  },
  {
   "cell_type": "markdown",
   "metadata": {},
   "source": [
    "### Ex3\n",
    "\n",
    " - Write a function to sum the even elements of a numeric list.\n"
   ]
  },
  {
   "cell_type": "code",
   "execution_count": 1,
   "metadata": {},
   "outputs": [],
   "source": [
    "list1 = [1,2,3,4,5,6,7]\n",
    "\n",
    "def addsum(L):\n",
    "    sum = 0\n",
    "    i = 0\n",
    "    while i < len(L):\n",
    "        if L[i] % 2 == 0:\n",
    "            sum += L[i]\n",
    "            i += 1\n",
    "        else:\n",
    "            continue\n",
    "    print(sum)\n",
    "\n",
    "print(addsum(list1))\n",
    "\n"
   ]
  },
  {
   "cell_type": "markdown",
   "metadata": {},
   "source": [
    "### Ex4\n",
    "Write function to add 'ing' at the end of a given string (length should be at least 3). \n",
    "\n",
    "If the given string already ends with 'ing' then add 'ly' instead. If the string length of the given string is less than 3, leave it unchanged.\n",
    "\n",
    "\"speak\" → \"speaking\"\n",
    "\n",
    "\"willing\" → \"willingly\""
   ]
  },
  {
   "cell_type": "code",
   "execution_count": null,
   "metadata": {},
   "outputs": [],
   "source": [
    "def giveString(L):\n",
    "    while len(L) >= 3:\n",
    "        if L[-3:] != 'ing':\n",
    "            return L + 'ing'\n",
    "        elif L[-3:] == 'ing':\n",
    "            return L + 'ly'\n",
    "        else:\n",
    "            return None\n",
    "\n",
    "print(giveString('helling'))"
   ]
  },
  {
   "cell_type": "markdown",
   "metadata": {},
   "source": [
    "### Ex5\n",
    "Write a python program that prints all odd numbers between 1 and N"
   ]
  },
  {
   "cell_type": "code",
   "execution_count": null,
   "metadata": {},
   "outputs": [],
   "source": [
    "start = int(input(\"Enter the start of range: \"))\n",
    "end = int(input(\"enter the end of range: \"))\n",
    "\n",
    "for num in range(start, end+1):\n",
    "    if num % 2 != 0:\n",
    "        print(num, end = \" \")\n"
   ]
  },
  {
   "cell_type": "markdown",
   "metadata": {},
   "source": [
    "### Ex6\n",
    "\n",
    "```\n",
    "Your company has a new Stocktaking system. In order to run the process accurately, two employees will do the same process separately. They use barcode scanner to scan all items in the inventory then all barcode numbers of all scanned items are saved in text file.\n",
    "This process generates two data files (one file from each employee): invdata1.txt and invdata2.txt.\n",
    "\n",
    "```\n",
    "- Write code to find the number of items scanned more then one time by mistake (Duplicates) in each file.\n",
    "- Write code that find barcode numbers found in file1 not file2 and vice versa.\n"
   ]
  },
  {
   "cell_type": "code",
   "execution_count": null,
   "metadata": {},
   "outputs": [],
   "source": [
    "f = open('invdata1.txt', 'r')\n",
    "content = f.read()\n",
    "f.close()\n",
    "\n",
    "content"
   ]
  },
  {
   "cell_type": "markdown",
   "metadata": {},
   "source": [
    "### Ex7\n",
    "\n",
    "Calculate the sum of integers divisible by 7 and less than 100. In the following example code, True is used as the while loop condition.  This means the while loop will run indefinitely until a break statement executes."
   ]
  },
  {
   "cell_type": "code",
   "execution_count": null,
   "metadata": {},
   "outputs": [],
   "source": [
    "i = 0\n",
    "the_sum = 0\n",
    "\n",
    "while True:\n",
    "    if i % 7 == 0 and i < 100:\n",
    "        the_sum += i\n",
    "        i += 1\n",
    "    if i > 100:\n",
    "        break\n",
    "\n",
    "print(True)\n",
    "\n"
   ]
  }
 ],
 "metadata": {
  "kernelspec": {
   "display_name": "Python 3",
   "language": "python",
   "name": "python3"
  },
  "language_info": {
   "codemirror_mode": {
    "name": "ipython",
    "version": 3
   },
   "file_extension": ".py",
   "mimetype": "text/x-python",
   "name": "python",
   "nbconvert_exporter": "python",
   "pygments_lexer": "ipython3",
   "version": "3.8.8"
  }
 },
 "nbformat": 4,
 "nbformat_minor": 4
}
