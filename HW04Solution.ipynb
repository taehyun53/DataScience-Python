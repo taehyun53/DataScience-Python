{
 "cells": [
  {
   "cell_type": "markdown",
   "metadata": {},
   "source": [
    "**Exercise 01** \n",
    "\n",
    "- Write a function called **ex_1_a** that adds the square of the number to each item in a list\n",
    "```\n",
    "ex_1_a([2, 5, 6]) ---> [[2, 4], [5, 25], [6, 36]]\n",
    "```\n",
    "\n",
    "- Write a function called **ex_1_b** that adds the size to each sublist in a list\n",
    "```\n",
    "LL = [[2,2,3], [5,1], [], [6]]\n",
    "ex_1_b(LL) ---> [[2, 2, 3, 3], [5, 1, 2], [0], [6, 1]]\n",
    "\n",
    "```"
   ]
  },
  {
   "cell_type": "code",
   "execution_count": 1,
   "metadata": {},
   "outputs": [
    {
     "data": {
      "text/plain": [
       "[[2, 4], [5, 25], [6, 36]]"
      ]
     },
     "execution_count": 1,
     "metadata": {},
     "output_type": "execute_result"
    }
   ],
   "source": [
    "# Your code here\n",
    "def ex_1_a(L):\n",
    "    return list(map(lambda x:[x,x**2],L))\n",
    "\n",
    "ex_1_a([2, 5, 6])"
   ]
  },
  {
   "cell_type": "code",
   "execution_count": 7,
   "metadata": {},
   "outputs": [
    {
     "data": {
      "text/plain": [
       "[[2, 2, 3, 3], [5, 1, 2], [0], [6, 1]]"
      ]
     },
     "execution_count": 7,
     "metadata": {},
     "output_type": "execute_result"
    }
   ],
   "source": [
    "def ex_1_b(LL):\n",
    "    #return list(map(lambda L:L.append(len(L)),LL))\n",
    "    return list(map(lambda L:L+[len(L)],LL))\n",
    "\n",
    "LL=[[2,2,3], [5,1], [], [6]]\n",
    "ex_1_b(LL)"
   ]
  },
  {
   "cell_type": "code",
   "execution_count": 8,
   "metadata": {},
   "outputs": [
    {
     "data": {
      "text/plain": [
       "[[2, 2, 3], [5, 1], [], [6]]"
      ]
     },
     "execution_count": 8,
     "metadata": {},
     "output_type": "execute_result"
    }
   ],
   "source": [
    "LL"
   ]
  },
  {
   "cell_type": "markdown",
   "metadata": {},
   "source": [
    " \n",
    "**Exercise 02** \n",
    "\n",
    " \n",
    "Write code to read the data from the file (salaries.txt), increases each salary by 100 then save new salaries back to the same file."
   ]
  },
  {
   "cell_type": "code",
   "execution_count": 37,
   "metadata": {},
   "outputs": [],
   "source": [
    "# Your code here\n",
    "#1. read the content from the file\n",
    "f=open('salaries.txt')\n",
    "content=f.read()\n",
    "f.close()\n",
    "\n",
    "#2. Add 100 to each salary\n",
    "salaries=content.split(',')\n",
    "new_salaries=list(map(lambda s:str(int(s)+100),salaries))\n",
    "\n",
    "#3. save the new salaries to same file\n",
    "\n",
    "f=open('salaries.txt','w')\n",
    "f.write(','.join(new_salaries))\n",
    "f.close()"
   ]
  },
  {
   "cell_type": "markdown",
   "metadata": {},
   "source": [
    "**Exercise 03** \n",
    "\n",
    " \n",
    "- Write code to read the data from the file (names.txt), the code should return a clean list of names (called **names_list**) with no additional spaces and all first names start with upper case."
   ]
  },
  {
   "cell_type": "code",
   "execution_count": 50,
   "metadata": {},
   "outputs": [
    {
     "data": {
      "text/plain": [
       "['Keith Bradley',\n",
       " 'Don Roy',\n",
       " 'Bonnie Norton',\n",
       " 'Jake Robertson',\n",
       " 'Emily Mendoza',\n",
       " 'Shannon Harmon',\n",
       " 'Meredith Howard',\n",
       " 'Irma Dean',\n",
       " 'Christie Stevenson',\n",
       " 'Rickey Kelley',\n",
       " 'Gene Hernandez',\n",
       " 'Ronald Ramos',\n",
       " 'Todd Becker',\n",
       " 'Nora Hale',\n",
       " 'Glenda Simon',\n",
       " 'Mable Page',\n",
       " 'Beverly Carr',\n",
       " 'Alice May',\n",
       " 'Ellis Aguilar',\n",
       " 'Brandi Nichols',\n",
       " 'Verna Chandler',\n",
       " 'Winston Barker',\n",
       " 'April Anderson',\n",
       " 'Joy Keller',\n",
       " 'Karen Stanley',\n",
       " 'Peter Foster',\n",
       " 'Crystal Mccoy',\n",
       " 'Alejandro Wilkins',\n",
       " 'Wendell Ballard',\n",
       " 'Lawrence Medina',\n",
       " 'Maxine Weber',\n",
       " 'Arlene Ryan',\n",
       " 'Patricia Clarke',\n",
       " 'Bernard Richardson',\n",
       " 'Andy Fletcher',\n",
       " 'Lois Obrien',\n",
       " 'Dustin Manning',\n",
       " 'Edgar Cain',\n",
       " 'Jody Myers',\n",
       " 'Neal Ball',\n",
       " 'Tammy Haynes',\n",
       " 'Pauline Cannon',\n",
       " 'Claire Edwards',\n",
       " 'Jordan Day',\n",
       " 'Garry Banks',\n",
       " 'Carrie Miller',\n",
       " 'Francis Lewis',\n",
       " 'Lynn Hicks',\n",
       " 'Andrea Mckenzie',\n",
       " 'Terry Rice']"
      ]
     },
     "execution_count": 50,
     "metadata": {},
     "output_type": "execute_result"
    }
   ],
   "source": [
    "# Your code here\n",
    "#1. read the content of the file\n",
    "f=open('names.txt')\n",
    "names=f.readlines()\n",
    "f.close()\n",
    "#clean_names=list(map(str.strip,names))\n",
    "#list(map(str.title,clean_names))\n",
    "\n",
    "names_list=list(map(lambda n:n.strip().title(),names))\n",
    "names_list"
   ]
  },
  {
   "cell_type": "code",
   "execution_count": null,
   "metadata": {},
   "outputs": [],
   "source": []
  }
 ],
 "metadata": {
  "kernelspec": {
   "display_name": "Python 3",
   "language": "python",
   "name": "python3"
  },
  "language_info": {
   "codemirror_mode": {
    "name": "ipython",
    "version": 3
   },
   "file_extension": ".py",
   "mimetype": "text/x-python",
   "name": "python",
   "nbconvert_exporter": "python",
   "pygments_lexer": "ipython3",
   "version": "3.8.8"
  }
 },
 "nbformat": 4,
 "nbformat_minor": 4
}
