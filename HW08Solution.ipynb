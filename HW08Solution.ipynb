{
 "cells": [
  {
   "cell_type": "markdown",
   "metadata": {},
   "source": [
    "**Exercise 01**\n",
    "\n",
    "`answers.txt` contains students answers of exam questions (each line contains student_id, then answers made by that student)\n",
    "- Write code to read the data from the file, compare students answers to answers key (1 point for each correct answer), then find: \n",
    "\n",
    "    - Means score.\n",
    "    - Id of student of the highest score.\n",
    "    - Id of student of the lowest score.\n",
    "\n",
    "`answerkey = \"B,A,D,D,C,B,D,A,C,C,D,B,A,B,A,C,B,D,A,C,A,A,B,D,D\"`"
   ]
  },
  {
   "cell_type": "code",
   "execution_count": 1,
   "metadata": {},
   "outputs": [],
   "source": [
    "#### Your code here\n",
    "# read the data from the file\n",
    "import numpy as np\n",
    "\n",
    "f=open('answers.txt')\n",
    "data=f.readlines()\n",
    "f.close()\n",
    "\n",
    "# put the data into numpy array\n",
    "a=np.array([l.split(',') for l in data])\n",
    "\n",
    "\n",
    "# Scale the answerkey to be 20 answer keys and make it as numpy array\n",
    "\n",
    "answerkey = \"B,A,D,D,C,B,D,A,C,C,D,B,A,B,A,C,B,D,A,C,A,A,B,D,D\"\n",
    "ak=answerkey.split(',')\n",
    "answer_key_array=np.array([ak]*20)\n"
   ]
  },
  {
   "cell_type": "code",
   "execution_count": 2,
   "metadata": {},
   "outputs": [
    {
     "name": "stdout",
     "output_type": "stream",
     "text": [
      "The average score is:  18.85\n"
     ]
    }
   ],
   "source": [
    "results=a[:,1:]==answer_key_array\n",
    "scores=np.sum(results, axis=1)\n",
    "print('The average score is: ',np.mean(scores))"
   ]
  },
  {
   "cell_type": "code",
   "execution_count": 3,
   "metadata": {},
   "outputs": [
    {
     "data": {
      "text/plain": [
       "22"
      ]
     },
     "execution_count": 3,
     "metadata": {},
     "output_type": "execute_result"
    }
   ],
   "source": [
    "np.max(scores)"
   ]
  },
  {
   "cell_type": "code",
   "execution_count": 4,
   "metadata": {},
   "outputs": [
    {
     "data": {
      "text/plain": [
       "15"
      ]
     },
     "execution_count": 4,
     "metadata": {},
     "output_type": "execute_result"
    }
   ],
   "source": [
    "np.min(scores)"
   ]
  },
  {
   "cell_type": "code",
   "execution_count": 5,
   "metadata": {},
   "outputs": [],
   "source": [
    "a_as_list=a.tolist()\n",
    "for i in range(len(a_as_list)):\n",
    "    a_as_list[i].append(scores.tolist()[i])\n",
    "new_a=np.array(a_as_list)"
   ]
  },
  {
   "cell_type": "code",
   "execution_count": 6,
   "metadata": {},
   "outputs": [
    {
     "data": {
      "text/plain": [
       "array([['N00000007', 'B', 'A', 'D', 'D', 'C', 'B', 'D', 'A', 'C', '',\n",
       "        'D', 'B', 'A', 'B', 'A', 'C', 'B', 'D', '', 'C', 'A', 'A', 'B',\n",
       "        'D', '\\n', '22'],\n",
       "       ['N00000016', 'B', 'A', 'C', 'D', '', 'B', 'D', 'A', 'C', 'C',\n",
       "        'D', 'B', 'A', 'B', 'A', 'C', 'B', 'D', 'A', 'C', 'A', 'A', 'B',\n",
       "        'D', 'D\\n', '22']], dtype='<U21')"
      ]
     },
     "execution_count": 6,
     "metadata": {},
     "output_type": "execute_result"
    }
   ],
   "source": [
    "the_array_of_students_of_score_22=new_a[new_a[:,-1]=='22']\n",
    "the_array_of_students_of_score_22"
   ]
  },
  {
   "cell_type": "code",
   "execution_count": 95,
   "metadata": {},
   "outputs": [
    {
     "data": {
      "text/plain": [
       "array(['N00000007', 'N00000016'], dtype='<U21')"
      ]
     },
     "execution_count": 95,
     "metadata": {},
     "output_type": "execute_result"
    }
   ],
   "source": [
    "the_array_of_students_of_score_22[:,0]"
   ]
  },
  {
   "cell_type": "code",
   "execution_count": 113,
   "metadata": {},
   "outputs": [
    {
     "data": {
      "text/plain": [
       "array(['N00000001'], dtype='<U21')"
      ]
     },
     "execution_count": 113,
     "metadata": {},
     "output_type": "execute_result"
    }
   ],
   "source": [
    "# Id of student of the lowest score.\n",
    "\n",
    "# 1- find the lowest score\n",
    "minimum_score=np.min(scores)\n",
    "\n",
    "# 2- find the record of that student\n",
    "the_array_of_students_of_score_15= new_a[new_a[:,-1]=='15']\n",
    "\n",
    "# 3- get only the id\n",
    "the_array_of_students_of_score_15[:,0]\n"
   ]
  },
  {
   "cell_type": "markdown",
   "metadata": {},
   "source": [
    "**Exercise 02** \n",
    "\n",
    " \n",
    "Write code to read data from (data.txt) then find:\n",
    "\n",
    "- Find number of employees in HR.\n",
    "- Find the employee of the maximum number of service years in IT department.\n",
    "- Compare the Average serving years of employees in HR and Trade departments.\n"
   ]
  },
  {
   "cell_type": "code",
   "execution_count": 137,
   "metadata": {},
   "outputs": [],
   "source": [
    "#### Your code here\n",
    "import numpy as np\n",
    "\n",
    "\n",
    "# Read the data\n",
    "f=open('data.txt')\n",
    "data=f.read()\n",
    "f.close()\n",
    "\n",
    "# Save data as  numpy array\n",
    "employees=np.array([l.split(',') for l in data.split('\\n')])\n",
    "\n"
   ]
  },
  {
   "cell_type": "code",
   "execution_count": 158,
   "metadata": {},
   "outputs": [
    {
     "name": "stdout",
     "output_type": "stream",
     "text": [
      "The number of employees in HR is:  15\n"
     ]
    }
   ],
   "source": [
    "# Find number of employees in HR.\n",
    "print('The number of employees in HR is: ',employees[employees[:,1]=='HR'].shape[0])"
   ]
  },
  {
   "cell_type": "code",
   "execution_count": 170,
   "metadata": {},
   "outputs": [],
   "source": [
    "employees_in_IT=employees[employees[:,1]=='IT']"
   ]
  },
  {
   "cell_type": "code",
   "execution_count": 171,
   "metadata": {},
   "outputs": [
    {
     "data": {
      "text/plain": [
       "15"
      ]
     },
     "execution_count": 171,
     "metadata": {},
     "output_type": "execute_result"
    }
   ],
   "source": [
    "# Find the employee of the maximum number of service years in IT department.\n",
    "\n",
    "max([int(e.split()[0]) for e in employees_in_IT[:,-1].tolist()])"
   ]
  },
  {
   "cell_type": "code",
   "execution_count": 174,
   "metadata": {},
   "outputs": [
    {
     "data": {
      "text/plain": [
       "array([['Nader', 'IT', '15 years.'],\n",
       "       ['Jaclyn', 'IT', '15 years.']], dtype='<U9')"
      ]
     },
     "execution_count": 174,
     "metadata": {},
     "output_type": "execute_result"
    }
   ],
   "source": [
    "employees_in_IT[employees_in_IT[:,-1]=='15 years.']"
   ]
  },
  {
   "cell_type": "code",
   "execution_count": 191,
   "metadata": {},
   "outputs": [],
   "source": [
    "# Compare the Average serving years of employees in HR and Trade departments.\n",
    "\n",
    "# find employees in HR\n",
    "employees_in_HR=employees[employees[:,1]=='HR']\n",
    "\n",
    "# Get only serving years\n",
    "serving_years_in_HR=[int(l.split()[0]) for l in employees_in_HR[:,-1]]\n",
    "\n",
    "# Find the average\n",
    "avg_in_HR=sum(serving_years_in_HR)/len(serving_years_in_HR)\n"
   ]
  },
  {
   "cell_type": "code",
   "execution_count": 192,
   "metadata": {},
   "outputs": [],
   "source": [
    "# find employees in Trade\n",
    "employees_in_Trade=employees[employees[:,1]=='Trade']\n",
    "\n",
    "# Get only serving years\n",
    "serving_years_in_Trade=[int(l.split()[0]) for l in employees_in_Trade[:,2]]\n",
    "\n",
    "#find the average\n",
    "avg_in_Trade=sum(serving_years_in_Trade)/len(serving_years_in_Trade)\n"
   ]
  },
  {
   "cell_type": "code",
   "execution_count": 193,
   "metadata": {},
   "outputs": [
    {
     "name": "stdout",
     "output_type": "stream",
     "text": [
      "The Average serving years of employees in HR is: 10.6\n",
      "The Average serving years of employees in Trade is: 5.615384615384615\n"
     ]
    }
   ],
   "source": [
    "print('The Average serving years of employees in HR is:', avg_in_HR)\n",
    "print('The Average serving years of employees in Trade is:', avg_in_Trade)"
   ]
  },
  {
   "cell_type": "code",
   "execution_count": null,
   "metadata": {},
   "outputs": [],
   "source": []
  }
 ],
 "metadata": {
  "kernelspec": {
   "display_name": "Python 3",
   "language": "python",
   "name": "python3"
  },
  "language_info": {
   "codemirror_mode": {
    "name": "ipython",
    "version": 3
   },
   "file_extension": ".py",
   "mimetype": "text/x-python",
   "name": "python",
   "nbconvert_exporter": "python",
   "pygments_lexer": "ipython3",
   "version": "3.8.8"
  }
 },
 "nbformat": 4,
 "nbformat_minor": 4
}
